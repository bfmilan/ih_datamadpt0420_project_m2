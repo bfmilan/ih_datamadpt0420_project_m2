{
 "cells": [
  {
   "cell_type": "markdown",
   "metadata": {},
   "source": [
    "# Waste in the UK\n",
    "\n",
    "This notebook takes the total waste statistics \n",
    "\n",
    ">  If you are want to access the raw data this is available online [see link](https://www.gov.uk/government/statistical-data-sets/env23-uk-waste-data-and-management#history)"
   ]
  },
  {
   "cell_type": "markdown",
   "metadata": {},
   "source": [
    "###  Waste Generation in 2016"
   ]
  },
  {
   "cell_type": "markdown",
   "metadata": {},
   "source": [
    "!pip install floweaver\n",
    "!jupyter nbextension enable --py --sys-prefix widgetsnbextension\n",
    "!pip install ipysankeywidget"
   ]
  },
  {
   "cell_type": "code",
   "execution_count": 358,
   "metadata": {},
   "outputs": [
    {
     "data": {
      "text/html": [
       "<div>\n",
       "<style scoped>\n",
       "    .dataframe tbody tr th:only-of-type {\n",
       "        vertical-align: middle;\n",
       "    }\n",
       "\n",
       "    .dataframe tbody tr th {\n",
       "        vertical-align: top;\n",
       "    }\n",
       "\n",
       "    .dataframe thead th {\n",
       "        text-align: right;\n",
       "    }\n",
       "</style>\n",
       "<table border=\"1\" class=\"dataframe\">\n",
       "  <thead>\n",
       "    <tr style=\"text-align: right;\">\n",
       "      <th></th>\n",
       "      <th>source</th>\n",
       "      <th>target</th>\n",
       "      <th>type</th>\n",
       "      <th>value</th>\n",
       "      <th>Unnamed: 4</th>\n",
       "    </tr>\n",
       "  </thead>\n",
       "  <tbody>\n",
       "    <tr>\n",
       "      <th>0</th>\n",
       "      <td>Agriculture, forestry and fishing</td>\n",
       "      <td>Spent solvents</td>\n",
       "      <td>Agriculture, forestry and fishing</td>\n",
       "      <td>10.390000</td>\n",
       "      <td>NaN</td>\n",
       "    </tr>\n",
       "    <tr>\n",
       "      <th>1</th>\n",
       "      <td>Mining and quarrying</td>\n",
       "      <td>Spent solvents</td>\n",
       "      <td>Mining and quarrying</td>\n",
       "      <td>1874.710000</td>\n",
       "      <td>NaN</td>\n",
       "    </tr>\n",
       "    <tr>\n",
       "      <th>2</th>\n",
       "      <td>Manufacture of food products, beverages and to...</td>\n",
       "      <td>Spent solvents</td>\n",
       "      <td>Manufacture of food products, beverages and to...</td>\n",
       "      <td>612.528520</td>\n",
       "      <td>NaN</td>\n",
       "    </tr>\n",
       "    <tr>\n",
       "      <th>3</th>\n",
       "      <td>Manufacture of textiles, wearing apparel, leat...</td>\n",
       "      <td>Spent solvents</td>\n",
       "      <td>Manufacture of textiles, wearing apparel, leat...</td>\n",
       "      <td>18.554774</td>\n",
       "      <td>NaN</td>\n",
       "    </tr>\n",
       "    <tr>\n",
       "      <th>4</th>\n",
       "      <td>Manufacture of wood and of products of wood an...</td>\n",
       "      <td>Spent solvents</td>\n",
       "      <td>Manufacture of wood and of products of wood an...</td>\n",
       "      <td>123.444978</td>\n",
       "      <td>NaN</td>\n",
       "    </tr>\n",
       "    <tr>\n",
       "      <th>5</th>\n",
       "      <td>Manufacture of paper and paper products, print...</td>\n",
       "      <td>Spent solvents</td>\n",
       "      <td>Manufacture of paper and paper products, print...</td>\n",
       "      <td>1927.159473</td>\n",
       "      <td>NaN</td>\n",
       "    </tr>\n",
       "    <tr>\n",
       "      <th>6</th>\n",
       "      <td>Manufacture of coke and refined petroleum prod...</td>\n",
       "      <td>Spent solvents</td>\n",
       "      <td>Manufacture of coke and refined petroleum prod...</td>\n",
       "      <td>74.339284</td>\n",
       "      <td>NaN</td>\n",
       "    </tr>\n",
       "    <tr>\n",
       "      <th>7</th>\n",
       "      <td>Manufacture of chemical, pharmaceutical, rubbe...</td>\n",
       "      <td>Spent solvents</td>\n",
       "      <td>Manufacture of chemical, pharmaceutical, rubbe...</td>\n",
       "      <td>128630.210923</td>\n",
       "      <td>NaN</td>\n",
       "    </tr>\n",
       "    <tr>\n",
       "      <th>8</th>\n",
       "      <td>Manufacture of other non-metallic mineral prod...</td>\n",
       "      <td>Spent solvents</td>\n",
       "      <td>Manufacture of other non-metallic mineral prod...</td>\n",
       "      <td>79.050790</td>\n",
       "      <td>NaN</td>\n",
       "    </tr>\n",
       "    <tr>\n",
       "      <th>9</th>\n",
       "      <td>Manufacture of basic metals and fabricated met...</td>\n",
       "      <td>Spent solvents</td>\n",
       "      <td>Manufacture of basic metals and fabricated met...</td>\n",
       "      <td>1523.128117</td>\n",
       "      <td>NaN</td>\n",
       "    </tr>\n",
       "  </tbody>\n",
       "</table>\n",
       "</div>"
      ],
      "text/plain": [
       "                                              source          target  \\\n",
       "0                  Agriculture, forestry and fishing  Spent solvents   \n",
       "1                               Mining and quarrying  Spent solvents   \n",
       "2  Manufacture of food products, beverages and to...  Spent solvents   \n",
       "3  Manufacture of textiles, wearing apparel, leat...  Spent solvents   \n",
       "4  Manufacture of wood and of products of wood an...  Spent solvents   \n",
       "5  Manufacture of paper and paper products, print...  Spent solvents   \n",
       "6  Manufacture of coke and refined petroleum prod...  Spent solvents   \n",
       "7  Manufacture of chemical, pharmaceutical, rubbe...  Spent solvents   \n",
       "8  Manufacture of other non-metallic mineral prod...  Spent solvents   \n",
       "9  Manufacture of basic metals and fabricated met...  Spent solvents   \n",
       "\n",
       "                                                type          value Unnamed: 4  \n",
       "0                  Agriculture, forestry and fishing      10.390000        NaN  \n",
       "1                               Mining and quarrying    1874.710000        NaN  \n",
       "2  Manufacture of food products, beverages and to...     612.528520        NaN  \n",
       "3  Manufacture of textiles, wearing apparel, leat...      18.554774        NaN  \n",
       "4  Manufacture of wood and of products of wood an...     123.444978        NaN  \n",
       "5  Manufacture of paper and paper products, print...    1927.159473        NaN  \n",
       "6  Manufacture of coke and refined petroleum prod...      74.339284        NaN  \n",
       "7  Manufacture of chemical, pharmaceutical, rubbe...  128630.210923        NaN  \n",
       "8  Manufacture of other non-metallic mineral prod...      79.050790        NaN  \n",
       "9  Manufacture of basic metals and fabricated met...    1523.128117        NaN  "
      ]
     },
     "execution_count": 358,
     "metadata": {},
     "output_type": "execute_result"
    }
   ],
   "source": [
    "import pandas as pd\n",
    "waste_gen = pd.read_excel('../../Box/Waste Crime Evaluation Phase 3/2. Data analysis/1. CBA model/4. Upstream model/waste16t.xls')\n",
    "waste_gen.head(10)"
   ]
  },
  {
   "cell_type": "markdown",
   "metadata": {},
   "source": [
    "Drawn directly as a Sankey diagram, this data would look something like this:"
   ]
  },
  {
   "cell_type": "code",
   "execution_count": 359,
   "metadata": {
    "scrolled": true
   },
   "outputs": [
    {
     "data": {
      "application/vnd.jupyter.widget-view+json": {
       "model_id": "0b73cb65302640febeae3d55852dcab0",
       "version_major": 2,
       "version_minor": 0
      },
      "text/plain": [
       "SankeyWidget(links=[{'source': 'Agriculture, forestry and fishing', 'target': 'Spent solvents', 'type': 'Agric…"
      ]
     },
     "metadata": {},
     "output_type": "display_data"
    }
   ],
   "source": [
    "from ipysankeywidget import SankeyWidget\n",
    "SankeyWidget(links=waste.to_dict('records'),width=10300, height=3750, \\\n",
    "                                                                        margins=dict(left=360, right=450))"
   ]
  },
  {
   "cell_type": "markdown",
   "metadata": {},
   "source": [
    "Lets take out the Zero values"
   ]
  },
  {
   "cell_type": "code",
   "execution_count": 360,
   "metadata": {},
   "outputs": [
    {
     "data": {
      "text/html": [
       "<div>\n",
       "<style scoped>\n",
       "    .dataframe tbody tr th:only-of-type {\n",
       "        vertical-align: middle;\n",
       "    }\n",
       "\n",
       "    .dataframe tbody tr th {\n",
       "        vertical-align: top;\n",
       "    }\n",
       "\n",
       "    .dataframe thead th {\n",
       "        text-align: right;\n",
       "    }\n",
       "</style>\n",
       "<table border=\"1\" class=\"dataframe\">\n",
       "  <thead>\n",
       "    <tr style=\"text-align: right;\">\n",
       "      <th></th>\n",
       "      <th>source</th>\n",
       "      <th>target</th>\n",
       "      <th>type</th>\n",
       "      <th>value</th>\n",
       "      <th>Unnamed: 4</th>\n",
       "    </tr>\n",
       "  </thead>\n",
       "  <tbody>\n",
       "    <tr>\n",
       "      <th>0</th>\n",
       "      <td>Agriculture, forestry and fishing</td>\n",
       "      <td>Spent solvents</td>\n",
       "      <td>Agriculture, forestry and fishing</td>\n",
       "      <td>10.390000</td>\n",
       "      <td>NaN</td>\n",
       "    </tr>\n",
       "    <tr>\n",
       "      <th>1</th>\n",
       "      <td>Mining and quarrying</td>\n",
       "      <td>Spent solvents</td>\n",
       "      <td>Mining and quarrying</td>\n",
       "      <td>1874.710000</td>\n",
       "      <td>NaN</td>\n",
       "    </tr>\n",
       "    <tr>\n",
       "      <th>2</th>\n",
       "      <td>Manufacture of food products, beverages and to...</td>\n",
       "      <td>Spent solvents</td>\n",
       "      <td>Manufacture of food products, beverages and to...</td>\n",
       "      <td>612.528520</td>\n",
       "      <td>NaN</td>\n",
       "    </tr>\n",
       "    <tr>\n",
       "      <th>3</th>\n",
       "      <td>Manufacture of textiles, wearing apparel, leat...</td>\n",
       "      <td>Spent solvents</td>\n",
       "      <td>Manufacture of textiles, wearing apparel, leat...</td>\n",
       "      <td>18.554774</td>\n",
       "      <td>NaN</td>\n",
       "    </tr>\n",
       "    <tr>\n",
       "      <th>4</th>\n",
       "      <td>Manufacture of wood and of products of wood an...</td>\n",
       "      <td>Spent solvents</td>\n",
       "      <td>Manufacture of wood and of products of wood an...</td>\n",
       "      <td>123.444978</td>\n",
       "      <td>NaN</td>\n",
       "    </tr>\n",
       "    <tr>\n",
       "      <th>...</th>\n",
       "      <td>...</td>\n",
       "      <td>...</td>\n",
       "      <td>...</td>\n",
       "      <td>...</td>\n",
       "      <td>...</td>\n",
       "    </tr>\n",
       "    <tr>\n",
       "      <th>551</th>\n",
       "      <td>Manufacture of chemical, pharmaceutical, rubbe...</td>\n",
       "      <td>Mineral waste from waste treatment &amp; stabilise...</td>\n",
       "      <td>Manufacture of chemical, pharmaceutical, rubbe...</td>\n",
       "      <td>9.000000</td>\n",
       "      <td>NaN</td>\n",
       "    </tr>\n",
       "    <tr>\n",
       "      <th>552</th>\n",
       "      <td>Manufacture of other non-metallic mineral prod...</td>\n",
       "      <td>Mineral waste from waste treatment &amp; stabilise...</td>\n",
       "      <td>Manufacture of other non-metallic mineral prod...</td>\n",
       "      <td>4083.000000</td>\n",
       "      <td>NaN</td>\n",
       "    </tr>\n",
       "    <tr>\n",
       "      <th>553</th>\n",
       "      <td>Manufacture of basic metals and fabricated met...</td>\n",
       "      <td>Mineral waste from waste treatment &amp; stabilise...</td>\n",
       "      <td>Manufacture of basic metals and fabricated met...</td>\n",
       "      <td>3.000000</td>\n",
       "      <td>NaN</td>\n",
       "    </tr>\n",
       "    <tr>\n",
       "      <th>558</th>\n",
       "      <td>Construction</td>\n",
       "      <td>Mineral waste from waste treatment &amp; stabilise...</td>\n",
       "      <td>Construction</td>\n",
       "      <td>40673.000000</td>\n",
       "      <td>NaN</td>\n",
       "    </tr>\n",
       "    <tr>\n",
       "      <th>559</th>\n",
       "      <td>Services (except wholesale of waste and scrap)</td>\n",
       "      <td>Mineral waste from waste treatment &amp; stabilise...</td>\n",
       "      <td>Services (except wholesale of waste and scrap)</td>\n",
       "      <td>12.000000</td>\n",
       "      <td>NaN</td>\n",
       "    </tr>\n",
       "  </tbody>\n",
       "</table>\n",
       "<p>455 rows × 5 columns</p>\n",
       "</div>"
      ],
      "text/plain": [
       "                                                source  \\\n",
       "0                    Agriculture, forestry and fishing   \n",
       "1                                 Mining and quarrying   \n",
       "2    Manufacture of food products, beverages and to...   \n",
       "3    Manufacture of textiles, wearing apparel, leat...   \n",
       "4    Manufacture of wood and of products of wood an...   \n",
       "..                                                 ...   \n",
       "551  Manufacture of chemical, pharmaceutical, rubbe...   \n",
       "552  Manufacture of other non-metallic mineral prod...   \n",
       "553  Manufacture of basic metals and fabricated met...   \n",
       "558                                       Construction   \n",
       "559     Services (except wholesale of waste and scrap)   \n",
       "\n",
       "                                                target  \\\n",
       "0                                       Spent solvents   \n",
       "1                                       Spent solvents   \n",
       "2                                       Spent solvents   \n",
       "3                                       Spent solvents   \n",
       "4                                       Spent solvents   \n",
       "..                                                 ...   \n",
       "551  Mineral waste from waste treatment & stabilise...   \n",
       "552  Mineral waste from waste treatment & stabilise...   \n",
       "553  Mineral waste from waste treatment & stabilise...   \n",
       "558  Mineral waste from waste treatment & stabilise...   \n",
       "559  Mineral waste from waste treatment & stabilise...   \n",
       "\n",
       "                                                  type         value  \\\n",
       "0                    Agriculture, forestry and fishing     10.390000   \n",
       "1                                 Mining and quarrying   1874.710000   \n",
       "2    Manufacture of food products, beverages and to...    612.528520   \n",
       "3    Manufacture of textiles, wearing apparel, leat...     18.554774   \n",
       "4    Manufacture of wood and of products of wood an...    123.444978   \n",
       "..                                                 ...           ...   \n",
       "551  Manufacture of chemical, pharmaceutical, rubbe...      9.000000   \n",
       "552  Manufacture of other non-metallic mineral prod...   4083.000000   \n",
       "553  Manufacture of basic metals and fabricated met...      3.000000   \n",
       "558                                       Construction  40673.000000   \n",
       "559     Services (except wholesale of waste and scrap)     12.000000   \n",
       "\n",
       "    Unnamed: 4  \n",
       "0          NaN  \n",
       "1          NaN  \n",
       "2          NaN  \n",
       "3          NaN  \n",
       "4          NaN  \n",
       "..         ...  \n",
       "551        NaN  \n",
       "552        NaN  \n",
       "553        NaN  \n",
       "558        NaN  \n",
       "559        NaN  \n",
       "\n",
       "[455 rows x 5 columns]"
      ]
     },
     "execution_count": 360,
     "metadata": {},
     "output_type": "execute_result"
    }
   ],
   "source": [
    "waste_clean = waste_gen[waste_gen['value'] !=0]\n",
    "waste_clean"
   ]
  },
  {
   "cell_type": "code",
   "execution_count": 361,
   "metadata": {},
   "outputs": [],
   "source": [
    "from floweaver import *\n",
    "\n",
    "size = dict(width=570, height=300)\n",
    "\n",
    "nodes = {\n",
    "    'Source': ProcessGroup(['Agriculture, forestry and fishing', \n",
    "                                     'Mining and quarrying',\n",
    "                                     'Manufacture of food products, beverages and tobacco products',\n",
    "                                     'Manufacture of textiles, wearing apparel, leather and related products',\n",
    "                                     'Manufacture of wood and of products of wood and cork, except furniture, manufacture of articles of straw and plaiting materials',\n",
    "                                     'Manufacture of paper and paper products, printing and reproduction or recorded media',\n",
    "                                     'Manufacture of coke and refined petroleum products',\n",
    "                                     'Manufacture of chemical, pharmaceutical, rubber and plastic products',\n",
    "                                     'Manufacture of other non-metallic mineral products', \n",
    "                                     'Manufacture of basic metals and fabricated metal products, except machinery and equipment',\n",
    "                                     'Manufacture of computer, electronic and optical products, electrical equipment, motor vehicles and other transport equipment',\n",
    "                                     'Manufacture of furniture, jewellery, musical instruments, toys, repair and installation or machinery and equipment',\n",
    "                                     'Electricity, gas, steam and air conditioning supply',\n",
    "                                     'Water collection, treatment and supply, sewerage, remediation activities and other waste management services',\n",
    "                                     'Construction',\n",
    "                                     'Services (except wholesale of waste and scrap)',\n",
    "                                     'Households'\n",
    "]),\n",
    "    \n",
    "    'Waste type': ProcessGroup(['Spent solvents', \n",
    "                                'Acid, alkaline or saline wastes',\n",
    "                                'Used oils',\n",
    "                                'Chemical wastes', \n",
    "                                'Industrial effluent sludges', \n",
    "                                'Sludges & liquid wastes from waste treatment',\n",
    "                                'Health care & biological wastes', \n",
    "                                'Metallic wastes, ferrous',\n",
    "                                'Metallic wastes, mixed',\n",
    "                                'Metallic wastes, non-ferrous',\n",
    "                                'Glass wastes',\n",
    "                                'Paper & cardboard wastes',\n",
    "                                'Rubber wastes',\n",
    "                                'Plastic wastes', \n",
    "                                'Wood wastes', \n",
    "                                'Textile wastes',\n",
    "                                'Waste containing PCB',\n",
    "                                'Discarded equipment',\n",
    "                                'Discarded vehicles', \n",
    "                                'Batteries & accumulators wastes',\n",
    "                                'Animal & mixed food waste', 'Vegetal wastes',\n",
    "                                'Animal faeces, urine & manure',\n",
    "                                'Household & similar wastes',\n",
    "                                'Mixed & undifferentiated materials',\n",
    "                                'Sorting residues',\n",
    "                                'Common sludges',\n",
    "                                'Mineral waste from construction & demolition',\n",
    "                                'Other mineral wastes',\n",
    "                                'Combustion wastes', \n",
    "                                'Soils', \n",
    "                                'Dredging spoils',\n",
    "                                'Mineral waste from waste treatment & stabilised waste'\n",
    "]),\n",
    "}"
   ]
  },
  {
   "cell_type": "markdown",
   "metadata": {},
   "source": [
    "We need to describe roughly how these groups should be placed in the final diagram by defining an \"ordering\" -- a list of vertical slices, each containing a list of node ids:"
   ]
  },
  {
   "cell_type": "code",
   "execution_count": 362,
   "metadata": {},
   "outputs": [],
   "source": [
    "ordering = [\n",
    "    ['Source'],       # put \"farms\" on the left...\n",
    "    ['Waste type'],   # ... and \"customers\" on the right.\n",
    "]"
   ]
  },
  {
   "cell_type": "markdown",
   "metadata": {},
   "source": [
    "And we also need to say which connections should appear in the diagram (sometimes you don't want to actually see all the connections). This is called a \"bundle\" because it bundles up multiple flows -- in this case all of them."
   ]
  },
  {
   "cell_type": "code",
   "execution_count": 363,
   "metadata": {},
   "outputs": [],
   "source": [
    "bundles = [\n",
    "    Bundle('Source', 'Waste type'),\n",
    "]"
   ]
  },
  {
   "cell_type": "markdown",
   "metadata": {},
   "source": [
    "Putting that together into a Sankey diagram definition (SDD) and applying it to the data gives this result:"
   ]
  },
  {
   "cell_type": "code",
   "execution_count": 364,
   "metadata": {},
   "outputs": [
    {
     "data": {
      "application/vnd.jupyter.widget-view+json": {
       "model_id": "45926edcd5304307bfef9c25a049908d",
       "version_major": 2,
       "version_minor": 0
      },
      "text/plain": [
       "SankeyWidget(layout=Layout(height='300', width='570'), links=[{'source': 'Source^*', 'target': 'Waste type^*',…"
      ]
     },
     "metadata": {},
     "output_type": "display_data"
    }
   ],
   "source": [
    "sdd = SankeyDefinition(nodes,bundles,ordering)\n",
    "weave(sdd,waste_clean).to_widget(**size)"
   ]
  },
  {
   "cell_type": "code",
   "execution_count": 365,
   "metadata": {},
   "outputs": [],
   "source": [
    "source_with_other = Partition.Simple('process', [\n",
    "                                     'Mining and quarrying',\n",
    "                                     'Manufacture of food products, beverages and tobacco products',\n",
    "                                     'Manufacture of basic metals and fabricated metal products, except machinery and equipment',\n",
    "                                     'Construction',\n",
    "                                     'Services (except wholesale of waste and scrap)',\n",
    "                                     'Households',\n",
    "                                     ('Other', [\n",
    "                                     'Agriculture, forestry and fishing',\n",
    "                                     'Manufacture of textiles, wearing apparel, leather and related products',\n",
    "                                     'Manufacture of wood and of products of wood and cork, except furniture, manufacture of articles of straw and plaiting materials',\n",
    "                                     'Manufacture of paper and paper products, printing and reproduction or recorded media',\n",
    "                                     'Manufacture of coke and refined petroleum products',\n",
    "                                     'Manufacture of chemical, pharmaceutical, rubber and plastic products',\n",
    "                                     'Manufacture of other non-metallic mineral products', \n",
    "                                     'Manufacture of computer, electronic and optical products, electrical equipment, motor vehicles and other transport equipment',\n",
    "                                     'Manufacture of furniture, jewellery, musical instruments, toys, repair and installation or machinery and equipment',\n",
    "                                     'Electricity, gas, steam and air conditioning supply',\n",
    "                                     'Water collection, treatment and supply, sewerage, remediation activities and other waste management services',\n",
    "                                     ])\n",
    "])\n",
    "\n",
    "waste_type_with_other = Partition.Simple('process', [\n",
    "                                'Chemical wastes', \n",
    "                                'Metallic wastes, ferrous',\n",
    "                                'Metallic wastes, mixed',\n",
    "                                'Glass wastes Paper & cardboard wastes',\n",
    "                                'Plastic wastes', \n",
    "                                'Wood wastes',\n",
    "                                'Discarded vehicles',\n",
    "                                'Animal & mixed food waste',\n",
    "                                'Vegetal wastes',\n",
    "                                'Household & similar wastes',\n",
    "                                'Mixed & undifferentiated materials',\n",
    "                                'Common sludges',\n",
    "                                'Mineral waste from construction & demolition',\n",
    "                                'Other mineral wastes',\n",
    "                                'Combustion wastes', \n",
    "                                'Soils', \n",
    "                                'Dredging spoils',\n",
    "                                'Glass wastes',\n",
    "                                'Paper & cardboard wastes',\n",
    "                                ('Other', ['Spent solvents', \n",
    "                                'Acid, alkaline or saline wastes',\n",
    "                                'Used oils',\n",
    "                                'Industrial effluent sludges',\n",
    "                                'Sludges & liquid wastes from waste treatment',\n",
    "                                'Health care & biological wastes',\n",
    "                                'Metallic wastes, non-ferrous',\n",
    "                                'Rubber wastes',\n",
    "                                'Textile wastes',\n",
    "                                'Waste containing PCB',\n",
    "                                'Discarded equipment',\n",
    "                                'Batteries & accumulators wastes',\n",
    "                                'Animal faeces, urine & manure',\n",
    "                                'Sorting residues',\n",
    "                                'Mineral waste from waste treatment & stabilised waste'])\n",
    "])"
   ]
  },
  {
   "cell_type": "code",
   "execution_count": 366,
   "metadata": {},
   "outputs": [],
   "source": [
    "# Update the ProcessGroup nodes to use the partitions\n",
    "nodes['Source'].partition = source_with_other\n",
    "nodes['Waste type'].partition = waste_type_with_other"
   ]
  },
  {
   "cell_type": "code",
   "execution_count": 391,
   "metadata": {},
   "outputs": [
    {
     "data": {
      "application/vnd.jupyter.widget-view+json": {
       "model_id": "83171864ce1a4f719f4a34a591b97b97",
       "version_major": 2,
       "version_minor": 0
      },
      "text/plain": [
       "SankeyWidget(groups=[{'id': 'Source', 'type': 'process', 'title': '', 'nodes': ['Source^Mining and quarrying',…"
      ]
     },
     "metadata": {},
     "output_type": "display_data"
    }
   ],
   "source": [
    "sdd = SankeyDefinition(nodes, bundles, ordering)\n",
    "weave(sdd, waste, link_color=QuantitativeScale('value'), measures='value').\\\n",
    "to_widget(width=1600, height=850, margins=dict(left=660, right=550)).\\\n",
    "auto_save_png('../../Box/Waste Crime Evaluation Phase 3/2. Data analysis/1. CBA model/4. Upstream model/waste_gen_f.png')"
   ]
  },
  {
   "cell_type": "markdown",
   "metadata": {},
   "source": [
    "##  Waste Treatment in 2016"
   ]
  },
  {
   "cell_type": "code",
   "execution_count": 392,
   "metadata": {},
   "outputs": [
    {
     "data": {
      "text/html": [
       "<div>\n",
       "<style scoped>\n",
       "    .dataframe tbody tr th:only-of-type {\n",
       "        vertical-align: middle;\n",
       "    }\n",
       "\n",
       "    .dataframe tbody tr th {\n",
       "        vertical-align: top;\n",
       "    }\n",
       "\n",
       "    .dataframe thead th {\n",
       "        text-align: right;\n",
       "    }\n",
       "</style>\n",
       "<table border=\"1\" class=\"dataframe\">\n",
       "  <thead>\n",
       "    <tr style=\"text-align: right;\">\n",
       "      <th></th>\n",
       "      <th>source</th>\n",
       "      <th>target</th>\n",
       "      <th>type</th>\n",
       "      <th>value</th>\n",
       "      <th>not_treated</th>\n",
       "    </tr>\n",
       "  </thead>\n",
       "  <tbody>\n",
       "    <tr>\n",
       "      <th>0</th>\n",
       "      <td>Spent solvents</td>\n",
       "      <td>Energy recovery</td>\n",
       "      <td>missing</td>\n",
       "      <td>0.00000</td>\n",
       "      <td>111353.505424</td>\n",
       "    </tr>\n",
       "    <tr>\n",
       "      <th>1</th>\n",
       "      <td>Spent solvents</td>\n",
       "      <td>Incineration</td>\n",
       "      <td>missing</td>\n",
       "      <td>25115.00000</td>\n",
       "      <td>111353.505424</td>\n",
       "    </tr>\n",
       "    <tr>\n",
       "      <th>2</th>\n",
       "      <td>Spent solvents</td>\n",
       "      <td>Recovery other than energy recovery - Except b...</td>\n",
       "      <td>missing</td>\n",
       "      <td>805.43686</td>\n",
       "      <td>111353.505424</td>\n",
       "    </tr>\n",
       "    <tr>\n",
       "      <th>3</th>\n",
       "      <td>Spent solvents</td>\n",
       "      <td>Recovery other than energy recovery - Backfilling</td>\n",
       "      <td>missing</td>\n",
       "      <td>0.00000</td>\n",
       "      <td>111353.505424</td>\n",
       "    </tr>\n",
       "    <tr>\n",
       "      <th>4</th>\n",
       "      <td>Spent solvents</td>\n",
       "      <td>Deposit onto or into land</td>\n",
       "      <td>missing</td>\n",
       "      <td>7602.00000</td>\n",
       "      <td>111353.505424</td>\n",
       "    </tr>\n",
       "    <tr>\n",
       "      <th>5</th>\n",
       "      <td>Spent solvents</td>\n",
       "      <td>Land treatment and release into water bodies</td>\n",
       "      <td>missing</td>\n",
       "      <td>0.00000</td>\n",
       "      <td>111353.505424</td>\n",
       "    </tr>\n",
       "    <tr>\n",
       "      <th>6</th>\n",
       "      <td>Acid, alkaline or saline wastes</td>\n",
       "      <td>Energy recovery</td>\n",
       "      <td>missing</td>\n",
       "      <td>0.00000</td>\n",
       "      <td>72284.524788</td>\n",
       "    </tr>\n",
       "    <tr>\n",
       "      <th>7</th>\n",
       "      <td>Acid, alkaline or saline wastes</td>\n",
       "      <td>Incineration</td>\n",
       "      <td>missing</td>\n",
       "      <td>0.00000</td>\n",
       "      <td>72284.524788</td>\n",
       "    </tr>\n",
       "    <tr>\n",
       "      <th>8</th>\n",
       "      <td>Acid, alkaline or saline wastes</td>\n",
       "      <td>Recovery other than energy recovery - Except b...</td>\n",
       "      <td>missing</td>\n",
       "      <td>54831.26150</td>\n",
       "      <td>72284.524788</td>\n",
       "    </tr>\n",
       "    <tr>\n",
       "      <th>9</th>\n",
       "      <td>Acid, alkaline or saline wastes</td>\n",
       "      <td>Recovery other than energy recovery - Backfilling</td>\n",
       "      <td>missing</td>\n",
       "      <td>0.00000</td>\n",
       "      <td>72284.524788</td>\n",
       "    </tr>\n",
       "  </tbody>\n",
       "</table>\n",
       "</div>"
      ],
      "text/plain": [
       "                            source  \\\n",
       "0                   Spent solvents   \n",
       "1                   Spent solvents   \n",
       "2                   Spent solvents   \n",
       "3                   Spent solvents   \n",
       "4                   Spent solvents   \n",
       "5                   Spent solvents   \n",
       "6  Acid, alkaline or saline wastes   \n",
       "7  Acid, alkaline or saline wastes   \n",
       "8  Acid, alkaline or saline wastes   \n",
       "9  Acid, alkaline or saline wastes   \n",
       "\n",
       "                                              target     type        value  \\\n",
       "0                                    Energy recovery  missing      0.00000   \n",
       "1                                       Incineration  missing  25115.00000   \n",
       "2  Recovery other than energy recovery - Except b...  missing    805.43686   \n",
       "3  Recovery other than energy recovery - Backfilling  missing      0.00000   \n",
       "4                          Deposit onto or into land  missing   7602.00000   \n",
       "5       Land treatment and release into water bodies  missing      0.00000   \n",
       "6                                    Energy recovery  missing      0.00000   \n",
       "7                                       Incineration  missing      0.00000   \n",
       "8  Recovery other than energy recovery - Except b...  missing  54831.26150   \n",
       "9  Recovery other than energy recovery - Backfilling  missing      0.00000   \n",
       "\n",
       "     not_treated  \n",
       "0  111353.505424  \n",
       "1  111353.505424  \n",
       "2  111353.505424  \n",
       "3  111353.505424  \n",
       "4  111353.505424  \n",
       "5  111353.505424  \n",
       "6   72284.524788  \n",
       "7   72284.524788  \n",
       "8   72284.524788  \n",
       "9   72284.524788  "
      ]
     },
     "execution_count": 392,
     "metadata": {},
     "output_type": "execute_result"
    }
   ],
   "source": [
    "waste_t = pd.read_excel('../../Box/Waste Crime Evaluation Phase 3/2. Data analysis/1. CBA model/4. Upstream model/waste16t_treated.xls')\n",
    "waste_t.head(10)"
   ]
  },
  {
   "cell_type": "markdown",
   "metadata": {},
   "source": [
    "Again, lets draw the diagram"
   ]
  },
  {
   "cell_type": "code",
   "execution_count": 393,
   "metadata": {},
   "outputs": [
    {
     "data": {
      "application/vnd.jupyter.widget-view+json": {
       "model_id": "b8ff2791022d484ba806d7261ff38b41",
       "version_major": 2,
       "version_minor": 0
      },
      "text/plain": [
       "SankeyWidget(links=[{'source': 'Spent solvents', 'target': 'Energy recovery', 'type': 'missing', 'value': 0.0,…"
      ]
     },
     "metadata": {},
     "output_type": "display_data"
    }
   ],
   "source": [
    "from ipysankeywidget import SankeyWidget\n",
    "SankeyWidget(links=waste_t.to_dict('records'),width=2000, height=1250, \\\n",
    "             margins=dict(left=660, right=550)).\\\n",
    "            auto_save_png('../../Box/Waste Crime Evaluation Phase 3/2. Data analysis/1. CBA model/4. Upstream model/waste_gen.png')"
   ]
  },
  {
   "cell_type": "code",
   "execution_count": 394,
   "metadata": {},
   "outputs": [
    {
     "data": {
      "text/html": [
       "<div>\n",
       "<style scoped>\n",
       "    .dataframe tbody tr th:only-of-type {\n",
       "        vertical-align: middle;\n",
       "    }\n",
       "\n",
       "    .dataframe tbody tr th {\n",
       "        vertical-align: top;\n",
       "    }\n",
       "\n",
       "    .dataframe thead th {\n",
       "        text-align: right;\n",
       "    }\n",
       "</style>\n",
       "<table border=\"1\" class=\"dataframe\">\n",
       "  <thead>\n",
       "    <tr style=\"text-align: right;\">\n",
       "      <th></th>\n",
       "      <th>source</th>\n",
       "      <th>target</th>\n",
       "      <th>type</th>\n",
       "      <th>value</th>\n",
       "      <th>not_treated</th>\n",
       "    </tr>\n",
       "  </thead>\n",
       "  <tbody>\n",
       "    <tr>\n",
       "      <th>1</th>\n",
       "      <td>Spent solvents</td>\n",
       "      <td>Incineration</td>\n",
       "      <td>missing</td>\n",
       "      <td>2.511500e+04</td>\n",
       "      <td>1.113535e+05</td>\n",
       "    </tr>\n",
       "    <tr>\n",
       "      <th>2</th>\n",
       "      <td>Spent solvents</td>\n",
       "      <td>Recovery other than energy recovery - Except b...</td>\n",
       "      <td>missing</td>\n",
       "      <td>8.054369e+02</td>\n",
       "      <td>1.113535e+05</td>\n",
       "    </tr>\n",
       "    <tr>\n",
       "      <th>4</th>\n",
       "      <td>Spent solvents</td>\n",
       "      <td>Deposit onto or into land</td>\n",
       "      <td>missing</td>\n",
       "      <td>7.602000e+03</td>\n",
       "      <td>1.113535e+05</td>\n",
       "    </tr>\n",
       "    <tr>\n",
       "      <th>8</th>\n",
       "      <td>Acid, alkaline or saline wastes</td>\n",
       "      <td>Recovery other than energy recovery - Except b...</td>\n",
       "      <td>missing</td>\n",
       "      <td>5.483126e+04</td>\n",
       "      <td>7.228452e+04</td>\n",
       "    </tr>\n",
       "    <tr>\n",
       "      <th>10</th>\n",
       "      <td>Acid, alkaline or saline wastes</td>\n",
       "      <td>Deposit onto or into land</td>\n",
       "      <td>missing</td>\n",
       "      <td>3.270225e+04</td>\n",
       "      <td>7.228452e+04</td>\n",
       "    </tr>\n",
       "    <tr>\n",
       "      <th>...</th>\n",
       "      <td>...</td>\n",
       "      <td>...</td>\n",
       "      <td>...</td>\n",
       "      <td>...</td>\n",
       "      <td>...</td>\n",
       "    </tr>\n",
       "    <tr>\n",
       "      <th>190</th>\n",
       "      <td>Dredging spoils</td>\n",
       "      <td>Deposit onto or into land</td>\n",
       "      <td>treated</td>\n",
       "      <td>6.813893e+04</td>\n",
       "      <td>-2.173965e+05</td>\n",
       "    </tr>\n",
       "    <tr>\n",
       "      <th>191</th>\n",
       "      <td>Dredging spoils</td>\n",
       "      <td>Land treatment and release into water bodies</td>\n",
       "      <td>treated</td>\n",
       "      <td>1.124333e+07</td>\n",
       "      <td>-2.173965e+05</td>\n",
       "    </tr>\n",
       "    <tr>\n",
       "      <th>194</th>\n",
       "      <td>Mineral waste from waste treatment &amp; stabilise...</td>\n",
       "      <td>Recovery other than energy recovery - Except b...</td>\n",
       "      <td>treated</td>\n",
       "      <td>3.247036e+05</td>\n",
       "      <td>-2.553371e+06</td>\n",
       "    </tr>\n",
       "    <tr>\n",
       "      <th>195</th>\n",
       "      <td>Mineral waste from waste treatment &amp; stabilise...</td>\n",
       "      <td>Recovery other than energy recovery - Backfilling</td>\n",
       "      <td>treated</td>\n",
       "      <td>2.419592e+05</td>\n",
       "      <td>-2.553371e+06</td>\n",
       "    </tr>\n",
       "    <tr>\n",
       "      <th>196</th>\n",
       "      <td>Mineral waste from waste treatment &amp; stabilise...</td>\n",
       "      <td>Deposit onto or into land</td>\n",
       "      <td>treated</td>\n",
       "      <td>2.032292e+06</td>\n",
       "      <td>-2.553371e+06</td>\n",
       "    </tr>\n",
       "  </tbody>\n",
       "</table>\n",
       "<p>119 rows × 5 columns</p>\n",
       "</div>"
      ],
      "text/plain": [
       "                                                source  \\\n",
       "1                                       Spent solvents   \n",
       "2                                       Spent solvents   \n",
       "4                                       Spent solvents   \n",
       "8                      Acid, alkaline or saline wastes   \n",
       "10                     Acid, alkaline or saline wastes   \n",
       "..                                                 ...   \n",
       "190                                    Dredging spoils   \n",
       "191                                    Dredging spoils   \n",
       "194  Mineral waste from waste treatment & stabilise...   \n",
       "195  Mineral waste from waste treatment & stabilise...   \n",
       "196  Mineral waste from waste treatment & stabilise...   \n",
       "\n",
       "                                                target     type         value  \\\n",
       "1                                         Incineration  missing  2.511500e+04   \n",
       "2    Recovery other than energy recovery - Except b...  missing  8.054369e+02   \n",
       "4                            Deposit onto or into land  missing  7.602000e+03   \n",
       "8    Recovery other than energy recovery - Except b...  missing  5.483126e+04   \n",
       "10                           Deposit onto or into land  missing  3.270225e+04   \n",
       "..                                                 ...      ...           ...   \n",
       "190                          Deposit onto or into land  treated  6.813893e+04   \n",
       "191       Land treatment and release into water bodies  treated  1.124333e+07   \n",
       "194  Recovery other than energy recovery - Except b...  treated  3.247036e+05   \n",
       "195  Recovery other than energy recovery - Backfilling  treated  2.419592e+05   \n",
       "196                          Deposit onto or into land  treated  2.032292e+06   \n",
       "\n",
       "      not_treated  \n",
       "1    1.113535e+05  \n",
       "2    1.113535e+05  \n",
       "4    1.113535e+05  \n",
       "8    7.228452e+04  \n",
       "10   7.228452e+04  \n",
       "..            ...  \n",
       "190 -2.173965e+05  \n",
       "191 -2.173965e+05  \n",
       "194 -2.553371e+06  \n",
       "195 -2.553371e+06  \n",
       "196 -2.553371e+06  \n",
       "\n",
       "[119 rows x 5 columns]"
      ]
     },
     "execution_count": 394,
     "metadata": {},
     "output_type": "execute_result"
    }
   ],
   "source": [
    "waste_t_clean = waste_t[waste_t['value'] !=0]\n",
    "waste_t_clean"
   ]
  },
  {
   "cell_type": "code",
   "execution_count": 395,
   "metadata": {},
   "outputs": [],
   "source": [
    "from floweaver import *\n",
    "\n",
    "size = dict(width=570, height=300)\n",
    "\n",
    "nodes = {'Waste type': ProcessGroup(['Spent solvents', \n",
    "                                'Acid, alkaline or saline wastes',\n",
    "                                'Used oils',\n",
    "                                'Chemical wastes', \n",
    "                                'Industrial effluent sludges', \n",
    "                                'Sludges & liquid wastes from waste treatment',\n",
    "                                'Health care & biological wastes', \n",
    "                                'Metallic wastes, ferrous',\n",
    "                                'Metallic wastes, mixed',\n",
    "                                'Metallic wastes, non-ferrous',\n",
    "                                'Glass wastes',\n",
    "                                'Paper & cardboard wastes',\n",
    "                                'Rubber wastes',\n",
    "                                'Plastic wastes', \n",
    "                                'Wood wastes', \n",
    "                                'Textile wastes',\n",
    "                                'Waste containing PCB',\n",
    "                                'Discarded equipment',\n",
    "                                'Discarded vehicles', \n",
    "                                'Batteries & accumulators wastes',\n",
    "                                'Animal & mixed food waste', 'Vegetal wastes',\n",
    "                                'Animal faeces, urine & manure',\n",
    "                                'Household & similar wastes',\n",
    "                                'Mixed & undifferentiated materials',\n",
    "                                'Sorting residues',\n",
    "                                'Common sludges',\n",
    "                                'Mineral waste from construction & demolition',\n",
    "                                'Other mineral wastes',\n",
    "                                'Combustion wastes', \n",
    "                                'Soils', \n",
    "                                'Dredging spoils',\n",
    "                                'Mineral waste from waste treatment & stabilised waste'\n",
    "]),\n",
    "         'Target': ProcessGroup(['Energy recovery', \n",
    "                            'Incineration', \n",
    "                            'Recovery other than energy recovery - Except backfilling', \n",
    "                            'Recovery other than energy recovery - Backfilling',\n",
    "                            'Deposit onto or into land',\n",
    "                            'Land treatment and release into water bodies'\n",
    "]),\n",
    "}"
   ]
  },
  {
   "cell_type": "markdown",
   "metadata": {},
   "source": [
    "We need to describe roughly how these groups should be placed in the final diagram by defining an \"ordering\" -- a list of vertical slices, each containing a list of node ids:"
   ]
  },
  {
   "cell_type": "code",
   "execution_count": 396,
   "metadata": {},
   "outputs": [],
   "source": [
    "ordering = [\n",
    "    ['Waste type'],       # put \"farms\" on the left...\n",
    "    ['Target'],   # ... and \"customers\" on the right.\n",
    "]"
   ]
  },
  {
   "cell_type": "markdown",
   "metadata": {},
   "source": [
    "And we also need to say which connections should appear in the diagram (sometimes you don't want to actually see all the connections). This is called a \"bundle\" because it bundles up multiple flows -- in this case all of them."
   ]
  },
  {
   "cell_type": "code",
   "execution_count": 397,
   "metadata": {},
   "outputs": [],
   "source": [
    "bundles = [\n",
    "    Bundle('Waste type', 'Target'),\n",
    "]"
   ]
  },
  {
   "cell_type": "markdown",
   "metadata": {},
   "source": [
    "Putting that together into a Sankey diagram definition (SDD) and applying it to the data gives this result:"
   ]
  },
  {
   "cell_type": "code",
   "execution_count": 398,
   "metadata": {},
   "outputs": [
    {
     "data": {
      "application/vnd.jupyter.widget-view+json": {
       "model_id": "eed2ceaafe6c4dcd8e677d2ec2138763",
       "version_major": 2,
       "version_minor": 0
      },
      "text/plain": [
       "SankeyWidget(layout=Layout(height='300', width='570'), links=[{'source': 'Waste type^*', 'target': 'Target^*',…"
      ]
     },
     "metadata": {},
     "output_type": "display_data"
    }
   ],
   "source": [
    "sdd = SankeyDefinition(nodes,bundles,ordering)\n",
    "weave(sdd,waste_t_clean).to_widget(**size)"
   ]
  },
  {
   "cell_type": "markdown",
   "metadata": {},
   "source": [
    "Now lets create some grouping"
   ]
  },
  {
   "cell_type": "code",
   "execution_count": 399,
   "metadata": {},
   "outputs": [],
   "source": [
    "waste_type_with_other = Partition.Simple('process', [\n",
    "                                'Chemical wastes', \n",
    "                                'Metallic wastes, ferrous',\n",
    "                                'Metallic wastes, mixed',\n",
    "                                'Glass wastes Paper & cardboard wastes',\n",
    "                                'Plastic wastes', \n",
    "                                'Wood wastes',\n",
    "                                'Discarded vehicles',\n",
    "                                'Animal & mixed food waste',\n",
    "                                'Vegetal wastes',\n",
    "                                'Household & similar wastes',\n",
    "                                'Mixed & undifferentiated materials',\n",
    "                                'Common sludges',\n",
    "                                'Mineral waste from construction & demolition',\n",
    "                                'Other mineral wastes',\n",
    "                                'Combustion wastes', \n",
    "                                'Soils', \n",
    "                                'Dredging spoils',\n",
    "                                'Glass wastes',\n",
    "                                'Paper & cardboard wastes',\n",
    "                                ('Other', ['Spent solvents', \n",
    "                                'Acid, alkaline or saline wastes',\n",
    "                                'Used oils',\n",
    "                                'Industrial effluent sludges',\n",
    "                                'Sludges & liquid wastes from waste treatment',\n",
    "                                'Health care & biological wastes',\n",
    "                                'Metallic wastes, non-ferrous',\n",
    "                                'Rubber wastes',\n",
    "                                'Textile wastes',\n",
    "                                'Waste containing PCB',\n",
    "                                'Discarded equipment',\n",
    "                                'Batteries & accumulators wastes',\n",
    "                                'Animal faeces, urine & manure',\n",
    "                                'Sorting residues',\n",
    "                                'Mineral waste from waste treatment & stabilised waste'])\n",
    "])\n",
    "\n",
    "\n",
    "treatment_type_with_other = Partition.Simple('process',[\n",
    "                            'Energy recovery', \n",
    "                            'Incineration', \n",
    "                            'Recovery other than energy recovery - Except backfilling', \n",
    "                            'Recovery other than energy recovery - Backfilling',\n",
    "                            'Deposit onto or into land',\n",
    "                            'Land treatment and release into water bodies'\n",
    "])\n",
    "\n",
    "\n"
   ]
  },
  {
   "cell_type": "markdown",
   "metadata": {},
   "source": [
    "Update the ProcessGroup nodes to use the partitions"
   ]
  },
  {
   "cell_type": "code",
   "execution_count": 400,
   "metadata": {},
   "outputs": [],
   "source": [
    "nodes['Waste type'].partition = waste_type_with_other\n",
    "nodes['Target'].partition = treatment_type_with_other"
   ]
  },
  {
   "cell_type": "markdown",
   "metadata": {},
   "source": [
    "Putting that together into a Sankey diagram definition (SDD) and applying it to the data gives this result:"
   ]
  },
  {
   "cell_type": "code",
   "execution_count": 401,
   "metadata": {},
   "outputs": [
    {
     "data": {
      "application/vnd.jupyter.widget-view+json": {
       "model_id": "81d97198dcf4454e8a1b0431a0897fff",
       "version_major": 2,
       "version_minor": 0
      },
      "text/plain": [
       "SankeyWidget(groups=[{'id': 'Waste type', 'type': 'process', 'title': '', 'nodes': ['Waste type^Chemical waste…"
      ]
     },
     "metadata": {},
     "output_type": "display_data"
    }
   ],
   "source": [
    "sdd = SankeyDefinition(nodes, bundles, ordering)\n",
    "weave(sdd, waste_t_clean, link_color=QuantitativeScale('value'), measures='value').to_widget(width=2000, height=1250, margins=dict(left=660, right=550)).auto_save_png('../../Box/Waste Crime Evaluation Phase 3/2. Data analysis/1. CBA model/4. Upstream model/waste_gen.png')"
   ]
  },
  {
   "cell_type": "code",
   "execution_count": 402,
   "metadata": {},
   "outputs": [
    {
     "data": {
      "application/vnd.jupyter.widget-view+json": {
       "model_id": "958f15b59e45476b97018ee1069559a6",
       "version_major": 2,
       "version_minor": 0
      },
      "text/plain": [
       "SankeyWidget(groups=[{'id': 'Waste type', 'type': 'process', 'title': '', 'nodes': ['Waste type^Chemical waste…"
      ]
     },
     "metadata": {},
     "output_type": "display_data"
    }
   ],
   "source": [
    "sdd = SankeyDefinition(nodes, bundles, ordering)\n",
    "weave(sdd, waste_t_clean, palette='Set2_8', measures='value').to_widget(width=1200, height=750, \\\n",
    "                                                                        margins=dict(left=360, right=450)).\\\n",
    "auto_save_png('../../Box/Waste Crime Evaluation Phase 3/2. Data analysis/1. CBA model/4. Upstream model/waste_gen.png')"
   ]
  },
  {
   "cell_type": "code",
   "execution_count": 403,
   "metadata": {},
   "outputs": [
    {
     "data": {
      "application/vnd.jupyter.widget-view+json": {
       "model_id": "160152e4c8a24ccd99993d9f434029f7",
       "version_major": 2,
       "version_minor": 0
      },
      "text/plain": [
       "SankeyWidget(groups=[{'id': 'Waste type', 'type': 'process', 'title': '', 'nodes': ['Waste type^Chemical waste…"
      ]
     },
     "metadata": {},
     "output_type": "display_data"
    }
   ],
   "source": [
    "sdd = SankeyDefinition(nodes, bundles, ordering)\n",
    "weave(sdd, waste_t_clean, link_color=QuantitativeScale('value'), measures='value').to_widget(width=1200, height=750, \\\n",
    "                                                                        margins=dict(left=360, right=450)).auto_save_png('../../Box/Waste Crime Evaluation Phase 3/2. Data analysis/1. CBA model/4. Upstream model/waste_treated.png')"
   ]
  },
  {
   "cell_type": "code",
   "execution_count": 404,
   "metadata": {},
   "outputs": [],
   "source": [
    "# Another partition -- but this time the dimension is the \"type\"\n",
    "# column of the waste_t_clean table\n",
    "waste_by_type = Partition.Simple('type', ['missing', 'treated'])\n",
    "palette = {'missing': 'yellowgreen', 'treated': 'gold'}"
   ]
  },
  {
   "cell_type": "code",
   "execution_count": 405,
   "metadata": {},
   "outputs": [
    {
     "data": {
      "application/vnd.jupyter.widget-view+json": {
       "model_id": "45d81a34067a4117ad4a24002ec70556",
       "version_major": 2,
       "version_minor": 0
      },
      "text/plain": [
       "SankeyWidget(groups=[{'id': 'Waste type', 'type': 'process', 'title': '', 'nodes': ['Waste type^Chemical waste…"
      ]
     },
     "metadata": {},
     "output_type": "display_data"
    }
   ],
   "source": [
    "sdd = SankeyDefinition(nodes, bundles, ordering,\n",
    "                       flow_partition=waste_by_type)\n",
    "weave(sdd, waste_t_clean, palette=palette).to_widget(width=1300, height=750, \\\n",
    "                                                                        margins=dict(left=360, right=450)).\\\n",
    "auto_save_png('../../Box/Waste Crime Evaluation Phase 3/2. Data analysis/1. CBA model/4. Upstream model/waste_gen.png')"
   ]
  },
  {
   "cell_type": "markdown",
   "metadata": {},
   "source": [
    "More customisation: \n",
    "You can subclass the QuantitativeScale class to get more control over the colour scale./\n",
    "Blue = Waste treated is greater than waste generated \n",
    "Red = Waste generated is greater than waste treated "
   ]
  },
  {
   "cell_type": "code",
   "execution_count": 406,
   "metadata": {},
   "outputs": [],
   "source": [
    "class MyScale(QuantitativeScale):\n",
    "    def get_palette(self, link):\n",
    "        # Choose colour scheme based on link type (here, not_treated)\n",
    "        name = 'Blues_9' if link.type == 'treated' else 'Reds_9'\n",
    "        return self.lookup_palette_name(name)\n",
    "\n",
    "    def get_color(self, link, value):\n",
    "        palette = self.get_palette(link)\n",
    "        return palette(0.2 + 0.8*value)"
   ]
  },
  {
   "cell_type": "code",
   "execution_count": null,
   "metadata": {},
   "outputs": [],
   "source": [
    "my_scale = MyScale('not_treated', palette='Blues_9')\n",
    "weave(sdd, waste_t_clean,\n",
    "      measures={'value': 'mean', 'not_treated': 'sum'},\n",
    "      link_width='value',\n",
    "      link_color=my_scale) \\\n",
    "    .to_widget(width=1300, height=750, \\\n",
    "               margins=dict(left=360, right=450)).auto_save_png\\\n",
    "    ('../../Box/Waste Crime Evaluation Phase 3/2. Data analysis/1. CBA model/4. Upstream model/waste_treated_2016.png')"
   ]
  },
  {
   "cell_type": "code",
   "execution_count": null,
   "metadata": {},
   "outputs": [],
   "source": [
    "my_scale.domain"
   ]
  },
  {
   "cell_type": "code",
   "execution_count": null,
   "metadata": {},
   "outputs": [],
   "source": [
    "my_scale = MyScale('not_treated', palette='Blues_9')\n",
    "weave(sdd, waste_t_clean,\n",
    "      measures={'value': 'sum', 'not_treated': 'mean'},\n",
    "      link_width='value',\n",
    "      link_color=my_scale) \\\n",
    "    .to_widget(width=1200, height=750, \\\n",
    "               margins=dict(left=360, right=450)).auto_save_png\\\n",
    "    ('../../Box/Waste Crime Evaluation Phase 3/2. Data analysis/1. CBA model/4. Upstream model/waste_treated2016.1.png')"
   ]
  },
  {
   "cell_type": "markdown",
   "metadata": {},
   "source": [
    "##  Waste 'lost' in 2016"
   ]
  },
  {
   "cell_type": "markdown",
   "metadata": {},
   "source": [
    "First we calculate the total waste generated"
   ]
  },
  {
   "cell_type": "code",
   "execution_count": null,
   "metadata": {},
   "outputs": [],
   "source": [
    "waste_gen_total = waste['value'].sum()"
   ]
  },
  {
   "cell_type": "markdown",
   "metadata": {},
   "source": [
    "then we calculate the total waste treated"
   ]
  },
  {
   "cell_type": "code",
   "execution_count": null,
   "metadata": {},
   "outputs": [],
   "source": [
    "waste_treat_total  = waste_t['value'].sum()"
   ]
  },
  {
   "cell_type": "markdown",
   "metadata": {},
   "source": [
    "The difference between waste generated and waste treated is the waste 'lost' form the system"
   ]
  },
  {
   "cell_type": "code",
   "execution_count": null,
   "metadata": {},
   "outputs": [],
   "source": [
    "waste_lost = waste_gen_total - waste_treat_total"
   ]
  },
  {
   "cell_type": "code",
   "execution_count": null,
   "metadata": {},
   "outputs": [],
   "source": [
    "data = [{'source': 'Waste generated', 'target': 'treated', 'value':waste_treat_total}, {'source':'Waste generated', 'target': 'not_treated', 'value': waste_lost}] "
   ]
  },
  {
   "cell_type": "code",
   "execution_count": null,
   "metadata": {},
   "outputs": [],
   "source": [
    "waste = pd.DataFrame(data)"
   ]
  },
  {
   "cell_type": "code",
   "execution_count": null,
   "metadata": {},
   "outputs": [],
   "source": [
    "waste"
   ]
  },
  {
   "cell_type": "code",
   "execution_count": null,
   "metadata": {},
   "outputs": [],
   "source": [
    "from ipysankeywidget import SankeyWidget\n",
    "SankeyWidget(links=waste.to_dict('records'),width=580, height=650, margins=dict(left=100, right=95))"
   ]
  },
  {
   "cell_type": "code",
   "execution_count": null,
   "metadata": {},
   "outputs": [],
   "source": [
    "from floweaver import *\n",
    "\n",
    "size = dict(width=570, height=300)\n",
    "\n",
    "nodes = {\n",
    "    'Waste generated': ProcessGroup(['Waste generated']),\n",
    "    \n",
    "    'end': ProcessGroup(['treated', 'not_treated']),\n",
    "}"
   ]
  },
  {
   "cell_type": "code",
   "execution_count": null,
   "metadata": {},
   "outputs": [],
   "source": [
    "ordering = [\n",
    "    ['Waste generated'],       # put \"farms\" on the left...\n",
    "    ['end'],   # ... and \"customers\" on the right.\n",
    "]"
   ]
  },
  {
   "cell_type": "code",
   "execution_count": null,
   "metadata": {},
   "outputs": [],
   "source": [
    "bundles = [\n",
    "    Bundle('Waste generated', 'end'),\n",
    "]\n"
   ]
  },
  {
   "cell_type": "code",
   "execution_count": null,
   "metadata": {},
   "outputs": [],
   "source": [
    "waste_no_other = Partition.Simple('process', [\n",
    "    'Waste generated'   # ... or a group\n",
    "])\n",
    "\n",
    "# This is another partition.\n",
    "end_no_treat = Partition.Simple('process', [\n",
    "    ('214,29 Mt treated', ['treated']),\n",
    "    ('6,75 Mt not treated', ['not_treated']),\n",
    "])\n",
    "# Update the ProcessGroup nodes to use the partitions\n",
    "nodes['Waste generated'].partition = waste_no_other\n",
    "nodes['end'].partition = end_no_treat"
   ]
  },
  {
   "cell_type": "code",
   "execution_count": null,
   "metadata": {},
   "outputs": [],
   "source": [
    "sdd = SankeyDefinition(nodes, bundles, ordering)\n",
    "weave(sdd, waste).to_widget(width=1000, height=250, margins=dict(left=160, right=550))"
   ]
  },
  {
   "cell_type": "code",
   "execution_count": null,
   "metadata": {},
   "outputs": [],
   "source": [
    "# Update the ProcessGroup nodes to use the partitions\n",
    "nodes['Waste generated'].partition = waste_no_other\n",
    "nodes['end'].partition = end_no_treat\n",
    "\n",
    "# New Sankey!\n",
    "weave(sdd, waste).to_widget(width=1000, height=250, margins=dict(left=160, right=550))"
   ]
  },
  {
   "cell_type": "code",
   "execution_count": null,
   "metadata": {},
   "outputs": [],
   "source": [
    "# Another partition -- but this time the dimension is the \"type\"\n",
    "# column of the flows table\n",
    "waste_by_type = Partition.Simple('target', ['treated', 'not_treated'])\n",
    "\n",
    "# Set the colours for the labels in the partition.\n",
    "palette = { 'treated': 'yellowgreen', 'not_treated': 'gold'}\n",
    "\n",
    "# New SDD with the flow_partition set\n",
    "sdd = SankeyDefinition(nodes, bundles, ordering, \n",
    "                       flow_partition=waste_by_type)\n",
    "\n",
    "weave(sdd, waste, palette=palette).to_widget(width=500, height=250, margins=dict(left=160, right=150))\n",
    "weave(sdd, waste,palette=palette).to_widget(width=500, height=250, margins=dict(left=160, right=150)).auto_save_png('../../Box/Waste Crime Evaluation Phase 3/2. Data analysis/1. CBA model/4. Upstream model/waste_lost.png')"
   ]
  },
  {
   "cell_type": "code",
   "execution_count": null,
   "metadata": {},
   "outputs": [],
   "source": []
  },
  {
   "cell_type": "code",
   "execution_count": null,
   "metadata": {},
   "outputs": [],
   "source": []
  },
  {
   "cell_type": "code",
   "execution_count": null,
   "metadata": {},
   "outputs": [],
   "source": []
  },
  {
   "cell_type": "code",
   "execution_count": null,
   "metadata": {},
   "outputs": [],
   "source": []
  },
  {
   "cell_type": "code",
   "execution_count": null,
   "metadata": {},
   "outputs": [],
   "source": []
  },
  {
   "cell_type": "code",
   "execution_count": null,
   "metadata": {},
   "outputs": [],
   "source": []
  },
  {
   "cell_type": "code",
   "execution_count": null,
   "metadata": {},
   "outputs": [],
   "source": []
  },
  {
   "cell_type": "code",
   "execution_count": null,
   "metadata": {},
   "outputs": [],
   "source": []
  },
  {
   "cell_type": "code",
   "execution_count": null,
   "metadata": {},
   "outputs": [],
   "source": []
  },
  {
   "cell_type": "code",
   "execution_count": null,
   "metadata": {},
   "outputs": [],
   "source": []
  },
  {
   "cell_type": "code",
   "execution_count": null,
   "metadata": {},
   "outputs": [],
   "source": []
  },
  {
   "cell_type": "code",
   "execution_count": null,
   "metadata": {},
   "outputs": [],
   "source": []
  },
  {
   "cell_type": "code",
   "execution_count": null,
   "metadata": {},
   "outputs": [],
   "source": []
  },
  {
   "cell_type": "code",
   "execution_count": null,
   "metadata": {},
   "outputs": [],
   "source": []
  },
  {
   "cell_type": "code",
   "execution_count": null,
   "metadata": {},
   "outputs": [],
   "source": []
  },
  {
   "cell_type": "code",
   "execution_count": null,
   "metadata": {},
   "outputs": [],
   "source": []
  },
  {
   "cell_type": "code",
   "execution_count": null,
   "metadata": {},
   "outputs": [],
   "source": []
  },
  {
   "cell_type": "code",
   "execution_count": null,
   "metadata": {},
   "outputs": [],
   "source": []
  },
  {
   "cell_type": "code",
   "execution_count": null,
   "metadata": {},
   "outputs": [],
   "source": []
  },
  {
   "cell_type": "code",
   "execution_count": null,
   "metadata": {},
   "outputs": [],
   "source": []
  },
  {
   "cell_type": "code",
   "execution_count": null,
   "metadata": {},
   "outputs": [],
   "source": []
  }
 ],
 "metadata": {
  "kernelspec": {
   "display_name": "Python 3",
   "language": "python",
   "name": "python3"
  },
  "language_info": {
   "codemirror_mode": {
    "name": "ipython",
    "version": 3
   },
   "file_extension": ".py",
   "mimetype": "text/x-python",
   "name": "python",
   "nbconvert_exporter": "python",
   "pygments_lexer": "ipython3",
   "version": "3.7.4"
  }
 },
 "nbformat": 4,
 "nbformat_minor": 2
}
